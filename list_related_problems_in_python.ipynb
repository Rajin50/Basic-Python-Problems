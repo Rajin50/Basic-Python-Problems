{
 "cells": [
  {
   "cell_type": "markdown",
   "metadata": {
    "id": "xDNsncrtU1yM"
   },
   "source": [
    "# CSE110 Lab Assignment 4 (List)\n",
    "\n",
    "This Assignment is to help you develop your concept of Lists in Python.\n",
    "\n",
    "**<font color='red'>[Please follow variable naming conventions including using meaningful variable names for all the tasks]</font>**\\\n",
    "<font color='red'>When you run your code, please make sure your outputs exactly match the sample outputs for each of the sample inputs given. Check if your code works for other valid inputs not given in the samples.</font>\n",
    "\n",
    "## Write the code in Python to do the following tasks:"
   ]
  },
  {
   "cell_type": "markdown",
   "metadata": {
    "id": "gh4GUDaIU1yO"
   },
   "source": [
    "\n",
    "\n",
    "\n",
    "\n",
    "\n",
    "\n",
    "##Write your name, student ID and CSE110 theory section number below:\n",
    "\n",
    "\n",
    "\n",
    "\n",
    "\n"
   ]
  },
  {
   "cell_type": "code",
   "execution_count": null,
   "metadata": {
    "id": "OAYfzLIqgqyE"
   },
   "outputs": [],
   "source": [
    "#Name: RAJIN IBNA RAJUANUR RAHMAN"
   ]
  },
  {
   "cell_type": "markdown",
   "metadata": {
    "id": "pbdeIVcyU1yi"
   },
   "source": [
    "### Task 1\n",
    "Write a Python program that reads 5 numbers from the user into a list. After reading each number, print all the numbers that have been entered so far in the list. \n",
    "\n",
    "**Example:**\\\n",
    "If the user enters 3, prints “Numbers in the list: [3]”\\\n",
    "If the user enters 5 next, prints “Numbers in the list: [3, 5]”\\\n",
    "If the user enters 34, prints “Numbers in the list: [3, 5, 34]”\\\n",
    "If the user then enters -11, prints “Numbers in the list: [3, 5, 34, -11]”\\\n",
    "Finally, if the user enters 0 as the last number, prints “Numbers in the list: [3, 5, 34, -11, 0]”"
   ]
  },
  {
   "cell_type": "code",
   "execution_count": 17,
   "metadata": {
    "id": "A5df9pmJU1yj"
   },
   "outputs": [
    {
     "name": "stdout",
     "output_type": "stream",
     "text": [
      "3\n",
      "Numbers in the list: [3]\n",
      "5\n",
      "Numbers in the list: [3, 5]\n",
      "34\n",
      "Numbers in the list: [3, 5, 34]\n",
      "-11\n",
      "Numbers in the list: [3, 5, 34, -11]\n",
      "0\n",
      "Numbers in the list: [3, 5, 34, -11, 0]\n"
     ]
    }
   ],
   "source": [
    "l = []\n",
    "\n",
    "for i in range(5):\n",
    "    x = int(input())\n",
    "    l.append(x)\n",
    "    \n",
    "    print(\"Numbers in the list:\", l)\n",
    "   "
   ]
  },
  {
   "cell_type": "markdown",
   "metadata": {
    "id": "ZrjtT-I_U1zD"
   },
   "source": [
    "### Task 2\n",
    "\n",
    "Write a Python program that takes a list as an input from the user, then creates a new list excluding the first and last two elements of the given list and prints the new list. If there are not enough elements in the list to do the task, print \"Not possible\".\n",
    "\n",
    "**Note:** You may use list slicing.\n",
    "\n",
    "===================================================================\n",
    "\n",
    "**Sample Input 1:**<br/>\n",
    "[10, 20, 24, 25, 26, 35, 70]<br/>\n",
    "\n",
    "**Sample Output 1:**<br/>\n",
    "[24, 25, 26]<br/>\n",
    "\n",
    "===================================================================\n",
    "\n",
    "**Sample Input 2:**<br/>\n",
    "[10, 20, 24, 25, 26]<br/>\n",
    "\n",
    "**Sample Output 2:**<br/>\n",
    "[24]<br/>\n",
    "\n",
    "===================================================================\n",
    "\n",
    "**Sample Input 3:**<br/>\n",
    "[10, 20, 24, 25]<br/>\n",
    "\n",
    "**Sample Output 3:**<br/>\n",
    "[]<br/>\n",
    "\n",
    "===================================================================\n",
    "\n",
    "**Sample Input 4:**<br/>\n",
    "[10, 20, 24]<br/>\n",
    "\n",
    "**Sample Output 4:**<br/>\n",
    "Not possible<br/>\n",
    "\n",
    "==================================================================="
   ]
  },
  {
   "cell_type": "code",
   "execution_count": 5,
   "metadata": {},
   "outputs": [
    {
     "name": "stdout",
     "output_type": "stream",
     "text": [
      "[10, 20, 24, 25, 26, 35, 70]\n",
      "[24, 25, 26]\n"
     ]
    }
   ],
   "source": [
    "list = input()\n",
    "\n",
    "sliced_list = list[1:-1]\n",
    "modified_list = sliced_list.split(\", \")\n",
    "\n",
    "update_list = []\n",
    "\n",
    "for i in modified_list:\n",
    "    update_list.append(int(i))\n",
    "\n",
    "if len(update_list) >= 4:\n",
    "    new_list = update_list[2 : len(update_list) - 2]\n",
    "    print(new_list)\n",
    "    \n",
    "else:\n",
    "    print(\"Not possible\")\n",
    "    "
   ]
  },
  {
   "cell_type": "markdown",
   "metadata": {
    "id": "AWgZaBZCzmaM"
   },
   "source": [
    "### Task 3\n",
    "\n",
    "Write a python program that reads 5 numbers from the user into a list, and then prints them in the reverse order.\n",
    "\n",
    "*Hint: You may create a list to store the input numbers and then use loop to print them in reverse order*\n",
    "\n",
    "===================================================================\n",
    "\n",
    "**Sample Input:**\\\n",
    "5\\\n",
    "-5\\\n",
    "100\\\n",
    "1\\\n",
    "0\n",
    "\n",
    "**Sample Output:**\\\n",
    "Input data: [5, -5, 100, 1, 0]\\\n",
    "Printing values from the list in reverse order:\\\n",
    "0\\\n",
    "1\\\n",
    "100\\\n",
    "-5\\\n",
    "5\n",
    "\n",
    "==================================================================="
   ]
  },
  {
   "cell_type": "code",
   "execution_count": 18,
   "metadata": {
    "id": "ICW-03YOznTp"
   },
   "outputs": [
    {
     "name": "stdout",
     "output_type": "stream",
     "text": [
      "5\n",
      "-5\n",
      "100\n",
      "1\n",
      "0\n",
      "Input data: [5, -5, 100, 1, 0]\n",
      "Printing values from the list in reverse order:\n",
      "0\n",
      "1\n",
      "100\n",
      "-5\n",
      "5\n"
     ]
    }
   ],
   "source": [
    "l = []\n",
    "for i in range(5):\n",
    "    x = int(input())\n",
    "    l.append(x)\n",
    "    \n",
    "print(\"Input data:\", l)\n",
    "print(\"Printing values from the list in reverse order:\")\n",
    "\n",
    "y = l[4: :-1]\n",
    "\n",
    "for j in y:\n",
    "    print(j)"
   ]
  },
  {
   "cell_type": "markdown",
   "metadata": {
    "id": "4pBLPmvre0jv"
   },
   "source": [
    "### Task 4\n",
    "\n",
    "Write a Python program that turns every item of a list into its square. [Your program should work for any lists; make changes to the lists below and check whether your program works correctly]\n",
    "\n",
    "===================================================================\n",
    "\n",
    "**Given list 1:**\\\n",
    "[1, 2, 3, 4, 5, 6, 7]\n",
    "\n",
    "**Sample Output 1:**\\\n",
    "[1, 4, 9, 16, 25, 36, 49]\n",
    "\n",
    "===================================================================\n",
    "\n",
    "**Given list 2:**\\\n",
    "[3, 5, 1, 6]\n",
    "\n",
    "**Sample Output 2:**\\\n",
    "[9, 25, 1, 36]\n",
    "\n",
    "\n",
    "===================================================================\n",
    "\n",
    "\n",
    "\n",
    "\n",
    "\n"
   ]
  },
  {
   "cell_type": "code",
   "execution_count": 3,
   "metadata": {
    "id": "5NDg0odDfANt"
   },
   "outputs": [
    {
     "name": "stdout",
     "output_type": "stream",
     "text": [
      "[1, 4, 9, 16, 25, 36, 49]\n"
     ]
    }
   ],
   "source": [
    "list = [1, 2, 3, 4, 5, 6, 7]\n",
    "new_list = []\n",
    "\n",
    "for i in list:\n",
    "    new_list.append(i * i)\n",
    "    \n",
    "print(new_list)"
   ]
  },
  {
   "cell_type": "markdown",
   "metadata": {
    "id": "G9jPuLWOetqd"
   },
   "source": [
    "### Task 5\n",
    "\n",
    "\n",
    "Write a Python program that removes all Empty strings from a **given list** and prints the modified list. [Your program should work for any given list; make changes to the list below and check whether your program works correctly]\n",
    "\n",
    "=========================================================================\n",
    "\n",
    "**Given List:**\n",
    "\n",
    "[\"hey\", \"there\", \"\", \"what's\", \"\", \"up\", \"\", \"?\"]\n",
    "\n",
    "**Sample Output:**\n",
    "\n",
    "Original List:\n",
    "['hey', 'there', '', \"what's\", '', 'up', '', '?']\n",
    "\n",
    "Modified List:\n",
    "['hey', 'there', \"what's\", 'up', '?']\n",
    "\n",
    "==========================================================================\n",
    "\n",
    "\n"
   ]
  },
  {
   "cell_type": "code",
   "execution_count": 6,
   "metadata": {
    "id": "yIlAlqlGe7IA"
   },
   "outputs": [
    {
     "name": "stdout",
     "output_type": "stream",
     "text": [
      "Original List: ['hey', 'there', '', \"what's\", '', 'up', '', '?']\n",
      "Modified List: ['hey', 'there', \"what's\", 'up', '?']\n"
     ]
    }
   ],
   "source": [
    "given_list = [\"hey\", \"there\", \"\", \"what's\", \"\", \"up\", \"\", \"?\"]\n",
    "new_list = []\n",
    "\n",
    "for i in given_list:\n",
    "    if i != \"\":\n",
    "        new_list.append(i)\n",
    "        \n",
    "print(\"Original List:\", given_list)\n",
    "print(\"Modified List:\", new_list)"
   ]
  },
  {
   "cell_type": "markdown",
   "metadata": {
    "id": "wfcSytFVU1zU"
   },
   "source": [
    "### Task 6\n",
    "\n",
    "Write a Python program that reads a string containing 7 numbers separated by commas, then makes a list of those numbers and prints the **largest number** and its location or index position in the list. <font color='red'>[You are not allowed to use the max(), sort(), sorted() function here]</font>\n",
    "\n",
    "[Your program should work for any given list; make changes to the list below and check whether your program works correctly]\n",
    "\n",
    "**Hint:** You may assume the first input to be the largest value initially and the largest value’s location to be 0.\n",
    "\n",
    "**Note:** You may need to be careful while printing the output. Depending on your code, you might need data conversion.\n",
    "\n",
    "===================================================================\n",
    "\n",
    "**Sample Input:**\\\n",
    " \"7, 13, 2, 10, 6, -11, 0\"\n",
    "\n",
    "**Sample Output:**\\\n",
    "My list: [7, 13, 2, 10, 6, -11, 0]\\\n",
    "Largest number in the list is 13 which was found at index 1.\n",
    "\n",
    "==================================================================="
   ]
  },
  {
   "cell_type": "code",
   "execution_count": 19,
   "metadata": {
    "id": "kXbEh1t3U1zV"
   },
   "outputs": [
    {
     "name": "stdout",
     "output_type": "stream",
     "text": [
      "\"7, 13, 2, 10, 6, -11, 0\"\n",
      "My list: [7, 13, 2, 10, 6, -11, 0]\n",
      "Largest number in the list is 13 which was found at index 1\n"
     ]
    }
   ],
   "source": [
    "user_input = input()\n",
    "splited_input = user_input[1:-1].split(\", \")\n",
    "\n",
    "new_list = []\n",
    "for i in splited_input:\n",
    "    new_list.append(int(i))\n",
    "    \n",
    "print(\"My list:\", new_list)\n",
    "\n",
    "largest_number = new_list[0]\n",
    "for i in new_list:\n",
    "    if i > largest_number:\n",
    "        largest_number = i\n",
    "        \n",
    "indexing_value = new_list.index(largest_number)\n",
    "\n",
    "print(f\"Largest number in the list is {largest_number} which was found at index {indexing_value}\")"
   ]
  },
  {
   "cell_type": "markdown",
   "metadata": {
    "id": "UjTy79X6ewce"
   },
   "source": [
    "## Task 7\n",
    "\n",
    "Suppose you have been given two lists. Write a Python program that replaces the last element of the first list with the second list. [Your program should work for any two given lists; make changes to the lists below and check whether your program works correctly]\n",
    "\n",
    "\n",
    "===================================================================\n",
    "\n",
    "**Sample given lists 1:**\\\n",
    "List_one : [1, 4, 7, 5]\\\n",
    "List_two : [6, 1, 3, 9]\n",
    "\n",
    "**Sample Output 1:**\\\n",
    "[1, 4, 7, 6, 1, 3, 9]\n",
    "\n",
    "===================================================================\n",
    "\n",
    "**Sample given lists 2:**\\\n",
    "List_one : [1, 3, 5, 7, 9, 10]\\\n",
    "List_two : [2, 4, 6, 8]\n",
    "\n",
    "**Sample Output 2:**\\\n",
    "[1, 3, 5, 7, 9, 2, 4, 6, 8]\n",
    "\n",
    "===================================================================\n",
    "\n",
    "\n",
    "\n"
   ]
  },
  {
   "cell_type": "code",
   "execution_count": 12,
   "metadata": {
    "id": "OlrhifBge-TA"
   },
   "outputs": [
    {
     "name": "stdout",
     "output_type": "stream",
     "text": [
      "[1, 3, 5, 7, 9, 2, 4, 6, 8]\n"
     ]
    }
   ],
   "source": [
    "List_one = [1, 3, 5, 7, 9, 10]\n",
    "List_two = [2, 4, 6, 8]\n",
    "\n",
    "x = List_one[0 : len(List_one) - 1]\n",
    "y = x + List_two \n",
    "\n",
    "print(y)"
   ]
  },
  {
   "cell_type": "markdown",
   "metadata": {
    "id": "7a_1pYjfU1zI"
   },
   "source": [
    "### Task 8\n",
    "Assume, you have been given two lists. [Your program should work for any two given lists; change the following lists and check whether your program works correctly for the code you have written]\n",
    "\n",
    "list_one = [1, 2, 3, 4, 5, 6, 7, 8, 9]\\\n",
    "list_two = [10, 11, 12, -13, -14, -15, -16]\n",
    "\n",
    "Write a Python program that creates a new list with all the **even elements** of both of the given lists and prints the new list.\n",
    "\n",
    "**Hint:** You may create a third list to store the even elements of the given lists.\n",
    "\n",
    "===================================================================\n",
    "\n",
    "**Output for the above lists:** [2, 4, 6, 8, 10, 12, -14, -16]\n",
    "\n",
    "==================================================================="
   ]
  },
  {
   "cell_type": "code",
   "execution_count": 2,
   "metadata": {
    "id": "vToa7yazU1zI"
   },
   "outputs": [
    {
     "name": "stdout",
     "output_type": "stream",
     "text": [
      "[2, 4, 6, 8, 10, 12, -14, -16]\n"
     ]
    }
   ],
   "source": [
    "list_one = [1, 2, 3, 4, 5, 6, 7, 8, 9]\n",
    "list_two = [10, 11, 12, -13, -14, -15, -16]\n",
    "\n",
    "new_list = []\n",
    "\n",
    "for i in list_one:\n",
    "    if i % 2 == 0:\n",
    "        new_list.append(i)\n",
    "        \n",
    "for j in list_two:\n",
    "    if j % 2 == 0:\n",
    "        new_list.append(j)\n",
    "        \n",
    "print(new_list)"
   ]
  },
  {
   "cell_type": "markdown",
   "metadata": {
    "id": "vyFt-Ra5erR4"
   },
   "source": [
    "### Task 9\n",
    "\n",
    "Write a Python program that reads a string as an input from the user where multiple numbers are separated by spaces. Then, make a list of numbers from the input string without using the split() function and print the list. Finally, remove all the occurences of **even numbers** from the same input list and print the modified list.\n",
    "\n",
    "\n",
    "=========================================================================\n",
    "\n",
    "**Sample Input:**\n",
    "\n",
    "7 12 4 55 96 2 11 61 33 42\n",
    "\n",
    "**Sample Output:**\n",
    "\n",
    "Original list: [7, 12, 4, 55, 96, 2, 11, 61, 33, 42]\\\n",
    "Modified list: [7, 55, 11, 61, 33]\n",
    "\n",
    "=========================================================================\n",
    "\n",
    "\n",
    "\n"
   ]
  },
  {
   "cell_type": "code",
   "execution_count": 3,
   "metadata": {
    "id": "fcPie0yUEBj6"
   },
   "outputs": [
    {
     "name": "stdout",
     "output_type": "stream",
     "text": [
      "7 12 4 55 96 2 11 61 33 42\n",
      "Original list: [7, 12, 4, 55, 96, 2, 11, 61, 33, 42]\n",
      "Modified list: [7, 55, 11, 61, 33]\n"
     ]
    }
   ],
   "source": [
    "user_input = input()\n",
    "temp1 = \"\"\n",
    "temp2 = \"\"\n",
    "\n",
    "list = []\n",
    "\n",
    "for i in user_input:\n",
    "    if i != \" \":\n",
    "        temp1 += i\n",
    "        \n",
    "    else:\n",
    "        temp2 = int(temp1)\n",
    "        list.append(temp2)\n",
    "        temp1 = \"\"\n",
    "        \n",
    "temp2 = int(temp1)\n",
    "list.append(temp2)\n",
    "        \n",
    "print(\"Original list:\", list)\n",
    "\n",
    "new_list = []\n",
    "for j in list:\n",
    "    if j % 2 != 0:\n",
    "        new_list.append(j)\n",
    "        \n",
    "print(\"Modified list:\", new_list)"
   ]
  },
  {
   "cell_type": "markdown",
   "metadata": {
    "id": "QaD4hLn92EKT"
   },
   "source": [
    "### Task 10\n",
    "Write a Python program that reads a string as an input from the user where multiple numbers are separated by commas. Then, make a list of numbers from the input string and print the list. Finally, remove multiple occurences of any numbers from the input list and print the modified list **without duplicate values**.\n",
    "\n",
    "*Hint: You may create a third list to store the results but you may try doing it in the same input list. You can use membership operators (in, not in) to make sure no duplicates are added.*\n",
    "\n",
    "===================================================================\n",
    "\n",
    "**Sample Input 1:**<br/>\n",
    "0, 0, 1, 2, 3, 4, 4, 5, 6, 6, 6, 7, 8, 9, 4, 4<br/>\n",
    "\n",
    "\n",
    "**Sample Output 1:**<br/>\n",
    "Input list: [0, 0, 1, 2, 3, 4, 4, 5, 6, 6, 6, 7, 8, 9, 4, 4]\\\n",
    "Modified list: [0, 1, 2, 3, 4, 5, 6, 7, 8, 9]\n",
    "\n",
    "===================================================================\n",
    "\n",
    "**Sample Input 2:**<br/>\n",
    "7, 7, 7, 1, 0, 3, 3, 55, 9<br/>\n",
    "\n",
    "\n",
    "**Sample Output 2:**<br/>\n",
    "Input list: [7, 7, 7, 1, 0, 3, 3, 55, 9]\\\n",
    "Modified list: [7, 1, 0, 3, 55, 9]\n",
    "\n",
    "==================================================================="
   ]
  },
  {
   "cell_type": "code",
   "execution_count": 5,
   "metadata": {
    "id": "EUbQbz5hU1zP"
   },
   "outputs": [
    {
     "name": "stdout",
     "output_type": "stream",
     "text": [
      "7, 7, 7, 1, 0, 3, 3, 55, 9\n",
      "input list: [7, 7, 7, 1, 0, 3, 3, 55, 9]\n",
      "Modified list: [7, 1, 0, 3, 55, 9]\n"
     ]
    }
   ],
   "source": [
    "user_input = input()\n",
    "updated_input = user_input.split(\", \")\n",
    "\n",
    "new_list = []\n",
    "for i in updated_input:\n",
    "    new_list.append(int(i))\n",
    "    \n",
    "print(\"input list:\", new_list)\n",
    "\n",
    "modified_list = []\n",
    "for j in new_list:\n",
    "    if j not in modified_list:\n",
    "        modified_list.append(j)\n",
    "        \n",
    "print(\"Modified list:\", modified_list)\n",
    "\n"
   ]
  },
  {
   "cell_type": "markdown",
   "metadata": {
    "id": "bvF30RQlemBW"
   },
   "source": [
    "### Task 11\n",
    "Assume, you have been given two lists: List_one and List_two. [Your program should work for any two given lists; change the following lists and check whether your program works correctly for the code you have written]\n",
    "\n",
    "Write a Python program that prints \"True\", if the given two lists have at least one common member. Otherwise, print \"False\". \n",
    "\n",
    "Note: Please use concepts of flag and break to solve this task.\n",
    "\n",
    "===================================================================\n",
    "\n",
    "**Given lists 1:**\\\n",
    "List_one : [1, 4, 3, 2, 6]\\\n",
    "List_two : [5, 6, 9, 8, 7]\n",
    "\n",
    "**Sample Output 1:**\\\n",
    "True\n",
    "\n",
    "===================================================================\n",
    "\n",
    "**Given lists 2:**\\\n",
    "List_one : [1, 4, 3, 2, 5]\\\n",
    "List_two : [8, 7, 6, 9]\n",
    "\n",
    "**Sample Output 2:**\\\n",
    "False\n",
    "\n",
    "===================================================================\n"
   ]
  },
  {
   "cell_type": "code",
   "execution_count": 16,
   "metadata": {
    "id": "LEnaTlyoMJdS"
   },
   "outputs": [
    {
     "name": "stdout",
     "output_type": "stream",
     "text": [
      "True\n"
     ]
    }
   ],
   "source": [
    "List_one = [1, 4, 3, 2, 6]\n",
    "List_two = [5, 6, 9, 8, 7]\n",
    "\n",
    "flag = False\n",
    "\n",
    "for elements_of_list1 in List_one:\n",
    "    for elements_of_list2 in List_two:\n",
    "        if elements_of_list1 == elements_of_list2:\n",
    "            flag = True\n",
    "            print(flag)\n",
    "            \n",
    "            break\n",
    "    \n",
    "if elements_of_list1 != elements_of_list2:\n",
    "    print(flag)"
   ]
  },
  {
   "cell_type": "markdown",
   "metadata": {
    "id": "WZXnxHTdGrMC"
   },
   "source": [
    "## Optional Tasks (12-17) [Ungraded]"
   ]
  },
  {
   "cell_type": "markdown",
   "metadata": {
    "id": "nwRZ3_0tC3fq"
   },
   "source": [
    "### Task 12\n",
    "\n",
    "\n",
    "Write a Python program that reads 7 numbers into a list and prints the **second largest number** and its location or index position on the list. <font color='red'>[You are not allowed to use the max(), sort(), sorted() function here]</font>\n",
    "\n",
    "===================================================================\n",
    "\n",
    "**Sample Input:**\\\n",
    " 7, 13, 2, 10, 6, -11, 0\n",
    "\n",
    "**Sample Output:**\\\n",
    "My list: [7, 13, 2, 10, 6, -11, 0]\\\n",
    "Second largest number in the list is 10 which was found at index 3.\n",
    "\n",
    "===================================================================\n",
    "\n"
   ]
  },
  {
   "cell_type": "code",
   "execution_count": 9,
   "metadata": {
    "id": "2fhPNFKGEOKi"
   },
   "outputs": [
    {
     "name": "stdout",
     "output_type": "stream",
     "text": [
      "7, 13, 2, 10, 6, -11, 0\n",
      "Second largest number in the list is 10 which was found at index 3\n"
     ]
    }
   ],
   "source": [
    "user_input = input()\n",
    "\n",
    "modified_input = user_input.split(\", \")\n",
    "\n",
    "new_list = []\n",
    "for i in modified_input:\n",
    "    new_list.append(int(i))\n",
    "    \n",
    "x = new_list[0]\n",
    "for j in new_list:\n",
    "    if j > x:\n",
    "        n = j\n",
    "        \n",
    "print(f\"Second largest number in the list is {n} which was found at index {new_list.index(n)}\")\n",
    "    \n"
   ]
  },
  {
   "cell_type": "markdown",
   "metadata": {
    "id": "lvSiLaobU1zY"
   },
   "source": [
    "### Task 13\n",
    "\n",
    "Write a Python program that reads 5 numbers into a list and prints the smallest and largest number and their locations in the list. <font color='red'>[You are not allowed to use the max(), min(), sort(), sorted() functions here]</font>\n",
    "\n",
    "**Hint:** You may assume the first input to be the largest value initially and the largest value’s location to be 0. Similarly, you can assume the first input to be the smallest value initially and the smallest value’s location to be 0. \n",
    "\n",
    "**Note:** You may need to be careful while printing the output. Depending on your code, you might need data conversion.\n",
    "\n",
    "===================================================================\n",
    "\n",
    "**Sample Input:**\\\n",
    "7, 13, -5, 10, 6\n",
    "\n",
    "**Sample Output:**\\\n",
    "My list: [7, 13, -5, 10, 6]\\\n",
    "Smallest number in the list is -5 which was found at index 2\\\n",
    "Largest number in the list is 13 which was found at index 1\n",
    "\n",
    "==================================================================="
   ]
  },
  {
   "cell_type": "code",
   "execution_count": null,
   "metadata": {
    "id": "yiS5TWSDU1zY"
   },
   "outputs": [],
   "source": [
    "#todo"
   ]
  },
  {
   "cell_type": "markdown",
   "metadata": {
    "id": "rguDZ8SBCHD8"
   },
   "source": [
    "### Task 14\n",
    "Write a Python program that takes two lists as an input from the user. Then print a new list with the **common elements** of both the input lists. \n",
    "\n",
    "*Hint: You may need to create a third list to store the results. You can use membership operators (in, not in) to make sure similar elements are added.*\n",
    "\n",
    "===================================================================\n",
    "\n",
    "**Sample Input 1:**<br/>\n",
    "A, B, C, D\n",
    "\n",
    "\n",
    "C, E, F, B\n",
    "\n",
    "\n",
    "**Sample Output 1:**<br/>\n",
    "['C', 'B']\n",
    "\n",
    "===================================================================\n",
    "\n",
    "**Sample Input 2:**<br/>\n",
    "1, 3, A, H, P\n",
    "\n",
    "\n",
    "A, G, 1, P, O\n",
    "\n",
    "\n",
    "**Sample Output 2:**<br/>\n",
    "['1', 'A', 'P']\n",
    "\n",
    "===================================================================\n"
   ]
  },
  {
   "cell_type": "code",
   "execution_count": null,
   "metadata": {
    "id": "3iueGiPPGG66"
   },
   "outputs": [],
   "source": [
    "# todo"
   ]
  },
  {
   "cell_type": "markdown",
   "metadata": {
    "id": "tjcE5oitCM2s"
   },
   "source": [
    "### Task 15\n",
    "\n",
    "Assume, you have been given two lists. [Your program should work for any two given lists; make changes to the lists below and check whether your program works correctly]\n",
    "\n",
    "list_one = [1, 2 , 2, 4, 5, 5, 7, 99, 200, 303, 70]\\\n",
    "list_two = [1, 1, 2, 3, 3, 3, 4, 5, 200, 500, -5]\n",
    "\n",
    "Write a Python program that creates a new list with all the **unique elements** of both the given lists. \n",
    "<font color='red'> **You need to make sure that there are no duplicates in the resulting list.**</font> Finally, print the updated list.\n",
    "\n",
    "**Hint:** You may create a third list to store the results. You can use membership operators (in, not in) to make sure no duplicates are added.\n",
    "\n",
    "===================================================================\n",
    "\n",
    "**Output for the above two lists**: \n",
    "[1, 2, 4, 5, 7, 99, 200, 303, 70, 3, 500, -5]\n",
    "\n",
    "==================================================================="
   ]
  },
  {
   "cell_type": "code",
   "execution_count": null,
   "metadata": {
    "id": "b2TwkUqnGZU-"
   },
   "outputs": [],
   "source": [
    "# todo"
   ]
  },
  {
   "cell_type": "markdown",
   "metadata": {
    "id": "A1GQ4lem2We7"
   },
   "source": [
    "### Task 16\n",
    "\n",
    "Write a python program to take a list as a string input from the user and print it back to the user as a list. Please look at the examples below for clarification. \n",
    "\n",
    "**<font color='red'>[Must use string split() and strip() functions]</font>**\n",
    "\n",
    "================================================================\n",
    "\n",
    "**Sample Input 1:**\\\n",
    "'1, &nbsp; &nbsp;&nbsp; &nbsp; 2  ,&nbsp; &nbsp;&nbsp; &nbsp;&nbsp; &nbsp;&nbsp; &nbsp;3, 50, 4'\n",
    "\n",
    "**Sample Output 1:**\\\n",
    "Original data: '1, &nbsp; &nbsp;&nbsp; &nbsp; 2  ,&nbsp; &nbsp;&nbsp; &nbsp;&nbsp; &nbsp;&nbsp; &nbsp;3, 50, 4'\\\n",
    "After removing square brackets: 1, &nbsp; &nbsp;&nbsp; &nbsp; 2  ,&nbsp; &nbsp;&nbsp; &nbsp;&nbsp; &nbsp;&nbsp; &nbsp;3, 50, 4\\\n",
    "Numbers in string format with extra white spaces: ['1', '&nbsp; &nbsp;&nbsp; &nbsp; 2'  ,'&nbsp; &nbsp;&nbsp; &nbsp;&nbsp; &nbsp;&nbsp; &nbsp;3', '50', '4']\\\n",
    "Final data (numbers in list format): [1, 2, 3, 50, 4]\n",
    "                \n",
    "                \n",
    "================================================================\n",
    "                \n",
    "  \n",
    "**Sample Input 2:**\n",
    "'[1,&nbsp; &nbsp;&nbsp; &nbsp;2&nbsp; &nbsp;,&nbsp; &nbsp;&nbsp; &nbsp;&nbsp; &nbsp;&nbsp; &nbsp;3, 50, 4]'\n",
    "\n",
    "**Sample Output 2:**\\\n",
    "Original data: [1,&nbsp; &nbsp;&nbsp; &nbsp;2&nbsp; &nbsp;,&nbsp; &nbsp;&nbsp; &nbsp;&nbsp; &nbsp;&nbsp; &nbsp;3, 50, 4]\\\n",
    "After removing square brackets: 1,&nbsp; &nbsp;&nbsp; &nbsp;2&nbsp; &nbsp;,&nbsp; &nbsp;&nbsp; &nbsp;&nbsp; &nbsp;&nbsp; &nbsp;3, 50, 4\\\n",
    "Numbers in string format with extra white spaces: ['1', '&nbsp; &nbsp;&nbsp; &nbsp;2&nbsp; &nbsp;', '&nbsp; &nbsp;&nbsp; &nbsp;&nbsp; &nbsp;&nbsp; &nbsp;3', '50', '4']\\\n",
    "Final data (numbers in list format): [1, 2, 3, 50, 4]\n",
    "                \n",
    "                \n",
    "================================================================\n",
    "\n",
    "                \n",
    "  \n",
    "**Sample Input 3:**\\\n",
    "\"&nbsp; &nbsp;&nbsp; &nbsp;[1,&nbsp; &nbsp;2&nbsp; &nbsp;,&nbsp; &nbsp;&nbsp; &nbsp;&nbsp; &nbsp;3,&nbsp; &nbsp;50,&nbsp; &nbsp;4]&nbsp; &nbsp;&nbsp; &nbsp;&nbsp; &nbsp;\"\n",
    "\n",
    "**Sample Output 3:**\\\n",
    "Original data: &nbsp; &nbsp;&nbsp; &nbsp;1,&nbsp; &nbsp;2&nbsp; &nbsp;,&nbsp; &nbsp;&nbsp; &nbsp;&nbsp; &nbsp;3,&nbsp; &nbsp;50,&nbsp; &nbsp;4&nbsp; &nbsp;&nbsp; &nbsp;&nbsp; &nbsp;\\\n",
    "After removing square brackets: 1,&nbsp; &nbsp;2&nbsp; &nbsp;,&nbsp; &nbsp;&nbsp; &nbsp;&nbsp; &nbsp;3,&nbsp; &nbsp;50,&nbsp; &nbsp;4\\\n",
    "Numbers in string format with extra white spaces: [' 1', '&nbsp; &nbsp;2&nbsp; &nbsp;', '&nbsp; &nbsp;&nbsp; &nbsp;&nbsp; &nbsp;3', '&nbsp; &nbsp;50', '&nbsp; &nbsp;4']\\\n",
    "Final data (numbers in list format): [1, 2, 3, 50, 4]\n",
    "\n",
    "                \n",
    "================================================================"
   ]
  },
  {
   "cell_type": "code",
   "execution_count": null,
   "metadata": {
    "id": "sV24bMYu2WPf"
   },
   "outputs": [],
   "source": [
    "#todo"
   ]
  },
  {
   "cell_type": "markdown",
   "metadata": {
    "id": "Ju21t8um2jiS"
   },
   "source": [
    "\n",
    "### Task 17\n",
    "Write a Python program that takes a single string as an input from the user where few numbers are separated by commas. Now, make a list with the numbers of the given string.Then your task is to remove multiple occurences of any number and then finally print the list **without any duplicate values**.\n",
    "\n",
    "*Hint (1): For obtaining the numbers from the string, use split(). For cleaning the data, use strip().*\n",
    "\n",
    "*Hint (2): You may create a third list to store the results. You can use membership operators (in, not in) to make sure no duplicates are added.*\n",
    "\n",
    "===================================================================\n",
    "\n",
    "**Sample Input 1:**<br/>\n",
    "0, 0, 1, 2, 3, 4,&nbsp;&nbsp; &nbsp;&nbsp; 4, 5, 6, 6, 6,&nbsp;&nbsp;&nbsp;&nbsp;&nbsp;&nbsp;7, 8, 9, 4,&nbsp;&nbsp;&nbsp;&nbsp;&nbsp;&nbsp;&nbsp;&nbsp; 4<br/>\n",
    "\n",
    "\n",
    "**Sample Output 1:**<br/>\n",
    "Given numbers in list: [0, 0, 1, 2, 3, 4, 4, 5, 6, 6, 6, 7, 8, 9, 4, 4]\\\n",
    "List without any dupliacte values: [0, 1, 2, 3, 4, 5, 6, 7, 8, 9]<br/>\n",
    "\n",
    "===================================================================\n",
    "\n",
    "**Sample Input 2:**<br/>\n",
    "7, 7, 7, 1, &nbsp;&nbsp;&nbsp;&nbsp;&nbsp;&nbsp;&nbsp;&nbsp;&nbsp;&nbsp;0, 3, 3, &nbsp;&nbsp;55, 9<br/>\n",
    "\n",
    "\n",
    "**Sample Output 2:**<br/>\n",
    "Given numbers in list: [7, 7, 7, 1, 0, 3, 3, 55, 9]\\\n",
    "List without any dupliacte values: [7, 1, 0, 3, 55, 9]<br/>\n",
    "\n",
    "===================================================================\n"
   ]
  },
  {
   "cell_type": "code",
   "execution_count": null,
   "metadata": {
    "id": "fCEuh7r_2kgE"
   },
   "outputs": [],
   "source": [
    "#todo"
   ]
  }
 ],
 "metadata": {
  "colab": {
   "collapsed_sections": [],
   "name": "CSE110 Lab Assignment 4 (List).ipynb",
   "provenance": []
  },
  "kernelspec": {
   "display_name": "Python 3 (ipykernel)",
   "language": "python",
   "name": "python3"
  },
  "language_info": {
   "codemirror_mode": {
    "name": "ipython",
    "version": 3
   },
   "file_extension": ".py",
   "mimetype": "text/x-python",
   "name": "python",
   "nbconvert_exporter": "python",
   "pygments_lexer": "ipython3",
   "version": "3.9.7"
  }
 },
 "nbformat": 4,
 "nbformat_minor": 1
}
