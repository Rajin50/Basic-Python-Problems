{
 "cells": [
  {
   "cell_type": "code",
   "execution_count": 3,
   "id": "4d279f11",
   "metadata": {},
   "outputs": [
    {
     "name": "stdout",
     "output_type": "stream",
     "text": [
      "5\n",
      "Odd!!\n"
     ]
    }
   ],
   "source": [
    "# Task- 01\n",
    "\n",
    "def even_checker(number):\n",
    "    if number % 2 == 0:\n",
    "        print(\"Even!!\")\n",
    "    else:\n",
    "        print(\"Odd!!\")\n",
    "        \n",
    "user_input = int(input())\n",
    "even_checker(user_input)\n"
   ]
  },
  {
   "cell_type": "code",
   "execution_count": 13,
   "id": "b6906359",
   "metadata": {},
   "outputs": [
    {
     "name": "stdout",
     "output_type": "stream",
     "text": [
      "10\n",
      "0 1 1 2 3 5 8 "
     ]
    }
   ],
   "source": [
    "# Task- 02\n",
    "\n",
    "def fibonacci(number):\n",
    "    a = 0\n",
    "    b = 1\n",
    "    c = a + b\n",
    "    print(a, end = \" \")\n",
    "    print(b, end = \" \")\n",
    "    \n",
    "    while c <= number:\n",
    "        c = a + b\n",
    "        a = b\n",
    "        b = c\n",
    "        if c <= number:\n",
    "            print(c, end = \" \")\n",
    "        \n",
    "user_input = int(input())\n",
    "fibonacci(user_input)"
   ]
  },
  {
   "cell_type": "code",
   "execution_count": 38,
   "id": "4048cb49",
   "metadata": {},
   "outputs": [
    {
     "name": "stdout",
     "output_type": "stream",
     "text": [
      "15\n",
      "Moo\n"
     ]
    }
   ],
   "source": [
    "# Task- 03\n",
    "\n",
    "def foo_moo(number):\n",
    "    if number % 2 == 0 and number % 3 == 0:\n",
    "        x = \"FooMoo\"\n",
    "\n",
    "    elif number % 3 == 0:\n",
    "        x = \"Moo\"\n",
    "     \n",
    "    elif number % 2 == 0:\n",
    "        x = \"Foo\"       \n",
    "        \n",
    "    else:\n",
    "        x = \"Boo\"\n",
    "        \n",
    "    return x\n",
    "    \n",
    "user_input = int(input())\n",
    "function = foo_moo(user_input)\n",
    "print(function)"
   ]
  },
  {
   "cell_type": "code",
   "execution_count": 14,
   "id": "6183aab1",
   "metadata": {},
   "outputs": [
    {
     "name": "stdout",
     "output_type": "stream",
     "text": [
      "HaRRy PotteR\n",
      "No. of Uppercase characters: 5\n",
      "No. of Lowercase Characters: 6\n"
     ]
    }
   ],
   "source": [
    "# Task- 04\n",
    "\n",
    "def character_checker(text):\n",
    "    lower_case = 0\n",
    "    upper_case = 0\n",
    "    \n",
    "    for i in text:\n",
    "        if ord(\"a\") <= ord(i) <= ord(\"z\"): \n",
    "            lower_case += 1\n",
    "            \n",
    "        elif ord(\"A\") <= ord(i) <= ord(\"Z\"):\n",
    "            upper_case += 1\n",
    "            \n",
    "    print(\"No. of Uppercase characters:\", upper_case)\n",
    "    print(\"No. of Lowercase Characters:\", lower_case)\n",
    "\n",
    "user_input = input()\n",
    "character_checker(user_input)\n"
   ]
  },
  {
   "cell_type": "code",
   "execution_count": 22,
   "id": "2d86e364",
   "metadata": {},
   "outputs": [
    {
     "name": "stdout",
     "output_type": "stream",
     "text": [
      "Age: 20\n",
      "Salary: 122000\n",
      "Job designation: president\n",
      "0\n"
     ]
    }
   ],
   "source": [
    "# Task- 05\n",
    "\n",
    "def calculate_tax(x, y, z):\n",
    "    if x < 18:\n",
    "        tax = 0\n",
    "        \n",
    "    elif z == \"president\":\n",
    "        tax = 0\n",
    "        \n",
    "    elif y < 10000:\n",
    "        tax = 0\n",
    "        \n",
    "    elif 10000 <= y <= 20000:\n",
    "        tax = y * 0.05\n",
    "        \n",
    "    elif y > 20000:\n",
    "        tax = y * 0.10\n",
    "        \n",
    "    return tax\n",
    "\n",
    "age = int(input(\"Age: \"))\n",
    "salary = int(input(\"Salary: \"))\n",
    "job_designation = input(\"Job designation: \")\n",
    "\n",
    "tax_for_you = calculate_tax(age, salary, job_designation)\n",
    "print(tax_for_you)\n",
    "    "
   ]
  },
  {
   "cell_type": "code",
   "execution_count": 29,
   "id": "7ad7908c",
   "metadata": {},
   "outputs": [
    {
     "name": "stdout",
     "output_type": "stream",
     "text": [
      "2250\n",
      "6 years, 2 months and 0 days\n"
     ]
    }
   ],
   "source": [
    "# Task- 06\n",
    "\n",
    "def calculate_years_months_days(x):\n",
    "    y = x // 365\n",
    "    remaining_days = x % 365\n",
    "    m = remaining_days // 30\n",
    "    d = remaining_days % 30\n",
    "    \n",
    "    print(f\"{y} years, {m} months and {d} days\")\n",
    "\n",
    "number_of_days = int(input())\n",
    "calculate_years_months_days(number_of_days)\n",
    "    \n",
    "    "
   ]
  },
  {
   "cell_type": "code",
   "execution_count": 4,
   "id": "543fd7cc",
   "metadata": {},
   "outputs": [
    {
     "name": "stdout",
     "output_type": "stream",
     "text": [
      "9\n",
      "12345678987654321\n"
     ]
    }
   ],
   "source": [
    "# Task- 07\n",
    "\n",
    "def show_palindrome(number):\n",
    "    \n",
    "    p = \"\"\n",
    "    \n",
    "    for i in range(1, number + 1):\n",
    "        p += str(i)\n",
    "        \n",
    "    for j in range(number - 1, 0, -1):\n",
    "        p += str(j)\n",
    "    \n",
    "    return(p)\n",
    "\n",
    "user_input = int(input())\n",
    "function = show_palindrome(user_input)\n",
    "\n",
    "print(int(function))\n",
    "        "
   ]
  },
  {
   "cell_type": "code",
   "execution_count": 20,
   "id": "71dcfe7c",
   "metadata": {},
   "outputs": [
    {
     "name": "stdout",
     "output_type": "stream",
     "text": [
      "         1 \n",
      "       1 2 1 \n",
      "     1 2 3 2 1 \n",
      "   1 2 3 4 3 2 1 \n",
      " 1 2 3 4 5 4 3 2 1 \n"
     ]
    }
   ],
   "source": [
    "# Task- 08\n",
    "\n",
    "def show_palindromic_triangle(number):\n",
    "    for i in range(1, number + 1):\n",
    "        print(\"  \" * (number - i) , end = \" \")\n",
    "        \n",
    "        for j in range(1, i + 1):\n",
    "            print(j, end = \" \")\n",
    "\n",
    "        for j in range(i - 1, 0, -1):\n",
    "            print(j, end = \" \")\n",
    "            \n",
    "        print()\n",
    "        \n",
    "show_palindromic_triangle(5)"
   ]
  },
  {
   "cell_type": "code",
   "execution_count": 9,
   "id": "ac6392a6",
   "metadata": {},
   "outputs": [
    {
     "name": "stdout",
     "output_type": "stream",
     "text": [
      "(19.634954084936208, 15.707963267948966)\n",
      "Area of the circle is 19.634954084936208 and circumference is 15.707963267948966\n"
     ]
    }
   ],
   "source": [
    "# Task- 09\n",
    "\n",
    "import math\n",
    "\n",
    "def area_circumference_generator(radius):\n",
    "    L = []\n",
    "    \n",
    "    area = math.pi * radius ** 2\n",
    "    circumference = 2 * math.pi * radius\n",
    "    \n",
    "    L.append(area)\n",
    "    L.append(circumference)\n",
    "    \n",
    "    T = tuple(L)\n",
    "    \n",
    "    return T\n",
    "\n",
    "# user_input = float(input())\n",
    "function = area_circumference_generator(2.5)\n",
    "\n",
    "print(function)\n",
    "\n",
    "A, C  = function\n",
    "\n",
    "print(f\"Area of the circle is {A} and circumference is {C}\")\n"
   ]
  },
  {
   "cell_type": "code",
   "execution_count": 4,
   "id": "11c0924a",
   "metadata": {},
   "outputs": [
    {
     "name": "stdout",
     "output_type": "stream",
     "text": [
      "{5: 25, 6: 36, 7: 49, 8: 64, 9: 81}\n"
     ]
    }
   ],
   "source": [
    "# Task- 10\n",
    "\n",
    "def make_square(pair):\n",
    "    dic = {}\n",
    "    for i in range(pair[0], pair[1] + 1):\n",
    "        dic[i] = i * i\n",
    "    \n",
    "    return dic\n",
    "\n",
    "S = make_square((5, 9))\n",
    "print(S)\n",
    "        \n",
    "    "
   ]
  },
  {
   "cell_type": "code",
   "execution_count": 6,
   "id": "4dcf4193",
   "metadata": {},
   "outputs": [
    {
     "name": "stdout",
     "output_type": "stream",
     "text": [
      "('Hi', 1, 2, 3, 'a', [1, 2])\n"
     ]
    }
   ],
   "source": [
    "# Task- 11\n",
    "\n",
    "def  rem_duplicate(values):\n",
    "    \n",
    "    L = list(values)\n",
    "    new_L = []\n",
    "    \n",
    "    for i in L:\n",
    "        if i not in new_L:\n",
    "            new_L.append(i)\n",
    "    T = tuple(new_L)\n",
    "    \n",
    "    return T\n",
    "\n",
    "D = rem_duplicate((\"Hi\", 1, 2, 3, 3, \"Hi\",'a', 'a', [1,2]))\n",
    "print(D)"
   ]
  },
  {
   "cell_type": "code",
   "execution_count": 16,
   "id": "c33058dc",
   "metadata": {},
   "outputs": [
    {
     "name": "stdout",
     "output_type": "stream",
     "text": [
      "Removed: 0\n",
      "[10, 10, 15, 15, 20]\n"
     ]
    }
   ],
   "source": [
    "# Task- 12\n",
    "\n",
    "def elements_checking(elements):\n",
    "    \n",
    "    new_L = []\n",
    "    for i in elements:\n",
    "        if new_L.count(i) == 2:\n",
    "            continue\n",
    "        else:\n",
    "            new_L.append(i)\n",
    "            \n",
    "    removed_elements = len(elements) - len(new_L)\n",
    "    print(\"Removed:\", removed_elements)\n",
    "    \n",
    "    return new_L\n",
    "\n",
    "N = elements_checking([10, 10, 15, 15, 20])\n",
    "print(N)"
   ]
  },
  {
   "cell_type": "code",
   "execution_count": 13,
   "id": "5a56d79b",
   "metadata": {},
   "outputs": [
    {
     "name": "stdout",
     "output_type": "stream",
     "text": [
      "/\n",
      "8\n",
      "4\n",
      "2.0\n"
     ]
    }
   ],
   "source": [
    "# Task- 13\n",
    "\n",
    "def calculate_by_operator(Operator, First_operand, Second_operand):\n",
    "    if Operator == \"+\":\n",
    "        x = First_operand + Second_operand\n",
    "    \n",
    "    elif Operator == \"-\":\n",
    "        x = First_operand - Second_operand\n",
    "        \n",
    "    elif Operator == \"*\":\n",
    "        x = First_operand * Second_operand\n",
    "        \n",
    "    elif Operator == \"/\":\n",
    "        x = First_operand / Second_operand\n",
    "        \n",
    "    return x\n",
    "\n",
    "Operator = input()\n",
    "First_operand = float(input())\n",
    "Second_operand = float(input())\n",
    "function = calculate_by_operator(Operator, First_operand, Second_operand)\n",
    "\n",
    "print(function)\n",
    "\n",
    "            \n",
    "    "
   ]
  },
  {
   "cell_type": "code",
   "execution_count": 50,
   "id": "daec3f21",
   "metadata": {},
   "outputs": [
    {
     "name": "stdout",
     "output_type": "stream",
     "text": [
      "Sentence: Python is easy to learn. I love python.\n",
      "Position: 6\n",
      "Pythonis eay to earn.I lov pythn. sl eo\n"
     ]
    }
   ],
   "source": [
    "# Task- 14\n",
    "\n",
    "def string_remover(Sentence, Position):\n",
    "    new = Sentence[0]\n",
    "    removed  = \"\"\n",
    "    for i in range(1, len(Sentence)):\n",
    "        if i % Position == 0:\n",
    "            removed += Sentence[i]\n",
    "        else:\n",
    "            new += Sentence[i]\n",
    "    new += removed\n",
    "    \n",
    "    return new\n",
    "\n",
    "S = input(\"Sentence: \")\n",
    "P = int(input(\"Position: \"))\n",
    "\n",
    "f = string_remover(S, P)\n",
    "print(f)\n"
   ]
  },
  {
   "cell_type": "code",
   "execution_count": 12,
   "id": "1cff4116",
   "metadata": {},
   "outputs": [
    {
     "name": "stdout",
     "output_type": "stream",
     "text": [
      "[\"Rice\", \"Beef\", \"Rice\"]\n",
      "Mohakhali\n",
      "790\n"
     ]
    }
   ],
   "source": [
    "# Task- 15\n",
    "\n",
    "def paid_amount(Products, Area = \"Dhanmondi\"):\n",
    "    \n",
    "    products_price = {'Rice': 105, 'Potato': 20, 'Chicken': 250, 'Beef': 510, 'Oil': 85}\n",
    "    \n",
    "    Total = 0\n",
    "    for i in Products:\n",
    "        if i in products_price.keys():\n",
    "            Total += products_price[i]\n",
    "            \n",
    "    if Area == \"Dhanmondi\":\n",
    "        Total += 30\n",
    "        \n",
    "    elif Area != \"Dhanmondi\":\n",
    "        Total += 70\n",
    "\n",
    "    return Total\n",
    "\n",
    "user_list = input()\n",
    "slicing = user_list[2 : -2]\n",
    "order_items = slicing.split('\", \"')\n",
    "\n",
    "location = input()\n",
    "\n",
    "\n",
    "function = paid_amount(order_items, location)\n",
    "print(function)\n"
   ]
  },
  {
   "cell_type": "code",
   "execution_count": 15,
   "id": "4283350c",
   "metadata": {},
   "outputs": [
    {
     "name": "stdout",
     "output_type": "stream",
     "text": [
      "12.0\n",
      "29.0\n",
      "45.0\n",
      "21.0\n",
      "42.0\n",
      "65.0\n",
      "26.0\n",
      "52.0\n",
      "80.0\n",
      "110.0\n"
     ]
    }
   ],
   "source": [
    "# Task- 16 (Tracing)\n",
    "\n",
    "x = 0\n",
    "y = 0\n",
    "sum = 0\n",
    "p = 0.0\n",
    "while (x < 9):\n",
    "    y = x/2\n",
    "    while (y<x):\n",
    "        p = (x + 5.0)/ 2\n",
    "        sum = sum+2 + x + y*2 + int(p)\n",
    "        print(sum)\n",
    "        y=y+1\n",
    "    x = x+2\n",
    "    if (x>5):\n",
    "        sum = 2\n",
    "    else:\n",
    "        sum += 3"
   ]
  },
  {
   "cell_type": "code",
   "execution_count": 16,
   "id": "ce7bfa3c",
   "metadata": {},
   "outputs": [
    {
     "name": "stdout",
     "output_type": "stream",
     "text": [
      "23\n",
      "46\n",
      "52\n",
      "75\n",
      "98\n",
      "121\n",
      "144\n",
      "167\n",
      "190\n",
      "213\n"
     ]
    }
   ],
   "source": [
    "# Task- 17 (Tracing)\n",
    "\n",
    "x = 0\n",
    "y = 0\n",
    "sum = 0\n",
    "while (x < 10):\n",
    "    y = x - 3\n",
    "    y = 40\n",
    "    while (y > 22):\n",
    "        if ((sum > 30) and (sum < 40)):\n",
    "            sum = sum + x * 2\n",
    "        elif((sum > 40) and (sum < 50)):\n",
    "            sum = sum + x * 3\n",
    "        else:\n",
    "            sum = sum + 23\n",
    "        print(sum)\n",
    "        y = y - 10\n",
    "    x += 2\n"
   ]
  },
  {
   "cell_type": "code",
   "execution_count": 1,
   "id": "20566898",
   "metadata": {},
   "outputs": [
    {
     "name": "stdout",
     "output_type": "stream",
     "text": [
      "6\n",
      "4\n",
      "2\n",
      "0\n",
      "-2\n",
      "-4\n",
      "3\n",
      "1\n",
      "-1\n",
      "-2\n"
     ]
    }
   ],
   "source": [
    "# Task- 18 (Tracing)\n",
    "\n",
    "x = y = 0\n",
    "sum = 0\n",
    "while (x < 10):\n",
    "    y = x - 3\n",
    "    while (y < 3):\n",
    "        sum = x - y * 2\n",
    "        print(sum)\n",
    "        y = y + 1\n",
    "    if (x > 7):\n",
    "        x += 1\n",
    "    else:\n",
    "        x += 3\n",
    "sum = x - y * 2\n",
    "print(sum)\n"
   ]
  },
  {
   "cell_type": "code",
   "execution_count": 11,
   "id": "0096793f",
   "metadata": {},
   "outputs": [
    {
     "name": "stdout",
     "output_type": "stream",
     "text": [
      "4\n",
      "9\n",
      "16\n",
      "25\n",
      "39\n",
      "56\n",
      "78\n",
      "104\n",
      "134\n",
      "147\n"
     ]
    }
   ],
   "source": [
    "# Task- 19 (Tracing)\n",
    "\n",
    "x = 0\n",
    "p = 0\n",
    "sum = 0\n",
    "p = 1\n",
    "x = 2\n",
    "q = 0.0\n",
    "sum = 0\n",
    "while (p < 12):\n",
    "    q = x + p - (sum + int(5 / 3)) / 3.0 % 2\n",
    "    sum = sum + x + int(q)\n",
    "    x+=1\n",
    "    print(sum)\n",
    "    if (x > 5):\n",
    "        p += int(4 / 2)\n",
    "    else:\n",
    "        p += 3 % 1\n",
    "sum = sum + p\n",
    "print(sum)\n"
   ]
  },
  {
   "cell_type": "code",
   "execution_count": 18,
   "id": "6bbd6f9d",
   "metadata": {},
   "outputs": [
    {
     "name": "stdout",
     "output_type": "stream",
     "text": [
      "-->dog<--28\n",
      "-->dog<--28-->115\n",
      "-->dog<--28-->115<--27\n",
      "-->dog<--28-->115<--27-->113\n",
      "-->dog<--28-->115<--27-->113-->115\n",
      "-->dog<--28-->115<--27-->113-->115<--37\n",
      "-->dog<--28-->115<--27-->113-->115<--37-->113\n",
      "-->dog<--28-->115<--27-->113-->115<--37-->113<--47\n",
      "-->dog<--28-->115<--27-->113-->115<--37-->113<--47-->213\n",
      "-->dog<--28-->115<--27-->113-->115<--37-->113<--47-->213-->213\n"
     ]
    }
   ],
   "source": [
    "# Task- 20 (Tracing)\n",
    "\n",
    "i = 2\n",
    "j = 0\n",
    "k = 17\n",
    "test = \"-->dog\"\n",
    "while i < 7:\n",
    "    k-=1\n",
    "    j = k\n",
    "    while j > 12:\n",
    "        if (j % 2 == 0):\n",
    "            test += \"<--\"\n",
    "            test = test + str(i) + str(j // 2)\n",
    "        else:\n",
    "            test += \"-->\"\n",
    "            test = test + str(i // 2) + str(j)\n",
    "        print(test)\n",
    "        j-=1\n",
    "    i+=1\n"
   ]
  },
  {
   "cell_type": "code",
   "execution_count": 2,
   "id": "071966fc",
   "metadata": {
    "scrolled": true
   },
   "outputs": [
    {
     "name": "stdout",
     "output_type": "stream",
     "text": [
      "<--53-->4\n",
      "-->1-->13\n",
      "<--53-->4\n",
      "-->1-->11\n",
      "-->2-->13\n",
      "<--63-->4\n",
      "-->2-->11\n",
      "<--73-->4\n",
      "-->2-->11\n",
      "-->2-->11\n"
     ]
    }
   ],
   "source": [
    "# Task- 21 (Tracing)\n",
    "\n",
    "test = \"\"\n",
    "i = 5\n",
    "j = 0\n",
    "k = 15\n",
    "while (i< 10):\n",
    "    k-=1\n",
    "    j = k\n",
    "    while (j > 10 ):\n",
    "        if j % 2 == 0:\n",
    "            test = \"<--\"\n",
    "            test = test + str(i) + '3' + \"-->\" + str(j // 3)\n",
    "        else:\n",
    "            test = \"-->\"\n",
    "            test = \"-->\" + str((i // 3)) + test + str(j)\n",
    "        print(test)\n",
    "        j -=1\n",
    "    i+=1\n",
    "\n"
   ]
  },
  {
   "cell_type": "code",
   "execution_count": 1,
   "id": "8eb63829",
   "metadata": {},
   "outputs": [
    {
     "name": "stdout",
     "output_type": "stream",
     "text": [
      "5 == 5\n",
      "2 == 2\n",
      "0 == 0\n",
      "-3 != -2\n",
      "-5 != -5\n",
      "-8 != -7\n",
      "-10 != -10\n"
     ]
    }
   ],
   "source": [
    "# Task- 22 (Tracing)\n",
    "\n",
    "i = 10\n",
    "while(i >= -20):\n",
    "    if(i < 0):\n",
    "        test = \" != \"\n",
    "        test = str(i//2) + test + str(int(i/2))\n",
    "    else:\n",
    "        test = \" == \"\n",
    "        test = str(i//2) + test + str(int(i/2))\n",
    "    print(test)\n",
    "    i -= 5"
   ]
  },
  {
   "cell_type": "code",
   "execution_count": 2,
   "id": "b023848a",
   "metadata": {},
   "outputs": [
    {
     "name": "stdout",
     "output_type": "stream",
     "text": [
      "5 == 5\n",
      "2 == 2\n",
      "0 == 0\n",
      "-3 != -2\n",
      "-5 != -5\n",
      "-8 != -7\n",
      "-10 != -10\n"
     ]
    }
   ],
   "source": [
    "i = 10\n",
    "while(i >= -20):\n",
    "    if(i < 0):\n",
    "        test = \" != \"\n",
    "        test = str(i//2) + test + str(int(i/2))\n",
    "    else:\n",
    "        test = \" == \"\n",
    "        test = str(i//2) + test + str(int(i/2))\n",
    "    print(test)\n",
    "    i -= 5"
   ]
  },
  {
   "cell_type": "code",
   "execution_count": 3,
   "id": "bf5b78c7",
   "metadata": {},
   "outputs": [
    {
     "name": "stdout",
     "output_type": "stream",
     "text": [
      "-3 != -2\n"
     ]
    }
   ],
   "source": [
    "i = -5\n",
    "\n",
    "test = \" != \"\n",
    "test = str(i//2) + test + str(int(i/2))\n",
    "print(test)"
   ]
  },
  {
   "cell_type": "code",
   "execution_count": null,
   "id": "a9fcc1fd",
   "metadata": {},
   "outputs": [],
   "source": []
  }
 ],
 "metadata": {
  "kernelspec": {
   "display_name": "Python 3 (ipykernel)",
   "language": "python",
   "name": "python3"
  },
  "language_info": {
   "codemirror_mode": {
    "name": "ipython",
    "version": 3
   },
   "file_extension": ".py",
   "mimetype": "text/x-python",
   "name": "python",
   "nbconvert_exporter": "python",
   "pygments_lexer": "ipython3",
   "version": "3.9.7"
  }
 },
 "nbformat": 4,
 "nbformat_minor": 5
}
