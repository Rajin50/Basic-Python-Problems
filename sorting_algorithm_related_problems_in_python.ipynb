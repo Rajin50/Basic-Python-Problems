{
 "cells": [
  {
   "cell_type": "code",
   "execution_count": 24,
   "id": "a113aefe",
   "metadata": {},
   "outputs": [],
   "source": [
    "#Name- RAJIN IBNA RAJUANUR RAHMAN"
   ]
  },
  {
   "cell_type": "code",
   "execution_count": 22,
   "id": "e5e1381c",
   "metadata": {},
   "outputs": [
    {
     "name": "stdout",
     "output_type": "stream",
     "text": [
      "[1, 2, 2, 3, 5, 6, 10, 11, 12, 14, 15, 17, 18, 20, 29]\n"
     ]
    }
   ],
   "source": [
    "# Task- 01\n",
    "\n",
    "my_list = [10, 1, 20, 3, 6, 2, 5, 11, 15, 2, 12, 14, 17, 18, 29]\n",
    "\n",
    "# Using bubble sort\n",
    "\n",
    "for index1 in range(0, len(my_list) -1):\n",
    "    \n",
    "    for index2 in range(0, len(my_list) - index1 - 1):\n",
    "        \n",
    "        if my_list[index2] > my_list[index2 + 1]:\n",
    "            temp = my_list[index2]\n",
    "            my_list[index2] = my_list[index2 + 1]\n",
    "            my_list[index2 + 1] = temp\n",
    "            \n",
    "            # my_list[index2], my_list[index2 + 1] = my_list[index2 + 1], my_list[index2]\n",
    "            \n",
    "print(my_list)"
   ]
  },
  {
   "cell_type": "code",
   "execution_count": 4,
   "id": "928e2061",
   "metadata": {},
   "outputs": [
    {
     "name": "stdout",
     "output_type": "stream",
     "text": [
      "[1, 2, 2, 3, 5, 6, 10, 11, 12, 14, 15, 17, 18, 20, 29]\n"
     ]
    }
   ],
   "source": [
    "# Task- 02\n",
    "\n",
    "my_list = [10, 1, 20, 3, 6, 2, 5, 11, 15, 2, 12, 14, 17, 18, 29]\n",
    "\n",
    "# Using selection sort\n",
    "\n",
    "for index1 in range(0, len(my_list) - 1):\n",
    "    min_value = my_list[index1]\n",
    "    min_index = index1\n",
    "    \n",
    "    for index2 in range(index1 + 1, len(my_list)):\n",
    "        if my_list[index2] < min_value:\n",
    "            min_value = my_list[index2]\n",
    "            min_index = index2\n",
    "            \n",
    "    temp = min_value\n",
    "    my_list[min_index] = my_list[index1]\n",
    "    my_list[index1] = temp\n",
    "    \n",
    "print(my_list)\n",
    "\n"
   ]
  },
  {
   "cell_type": "code",
   "execution_count": 1,
   "id": "d1fbc637",
   "metadata": {},
   "outputs": [
    {
     "name": "stdout",
     "output_type": "stream",
     "text": [
      "[29, 20, 18, 17, 15, 14, 12, 11, 10, 6, 5, 3, 2, 2, 1]\n"
     ]
    }
   ],
   "source": [
    "# Task- 03\n",
    "\n",
    "my_list = [10, 1, 20, 3, 6, 2, 5, 11, 15, 2, 12, 14, 17, 18, 29]\n",
    "\n",
    "# Using bubble sort\n",
    "\n",
    "for index1 in range(0, len(my_list) -1):\n",
    "    \n",
    "    for index2 in range(0, len(my_list) - index1 - 1):\n",
    "        \n",
    "        if my_list[index2] < my_list[index2 + 1]:\n",
    "            temp = my_list[index2]\n",
    "            my_list[index2] = my_list[index2 + 1]\n",
    "            my_list[index2 + 1] = temp\n",
    "            \n",
    "print(my_list)"
   ]
  },
  {
   "cell_type": "code",
   "execution_count": 27,
   "id": "830a614d",
   "metadata": {},
   "outputs": [
    {
     "name": "stdout",
     "output_type": "stream",
     "text": [
      "[10, 100, 11, 80, 12, 70, 20, 56, 22, 30, 58, 16, 70, 15]\n"
     ]
    }
   ],
   "source": [
    "# Task- 04\n",
    "\n",
    "def my_sort_ascending(my_list):\n",
    "    \n",
    "    for index1 in range(0, len(my_list) -1):\n",
    "    \n",
    "        for index2 in range(0, len(my_list) - index1 - 1):\n",
    "        \n",
    "            if my_list[index2] > my_list[index2 + 1]:\n",
    "                temp = my_list[index2]\n",
    "                my_list[index2] = my_list[index2 + 1]\n",
    "                my_list[index2 + 1] = temp\n",
    "                \n",
    "    return my_list\n",
    "\n",
    "def my_sort_descending(my_list):\n",
    "    \n",
    "    for index1 in range(0, len(my_list) -1):\n",
    "    \n",
    "        for index2 in range(0, len(my_list) - index1 - 1):\n",
    "        \n",
    "            if my_list[index2] < my_list[index2 + 1]:\n",
    "                temp = my_list[index2]\n",
    "                my_list[index2] = my_list[index2 + 1]\n",
    "                my_list[index2 + 1] = temp\n",
    "                # my_list[index2], my_list[index2 + 1] = my_list[index2 + 1], my_list[index2]\n",
    "                \n",
    "    return my_list\n",
    "\n",
    "sitting_list = [10,30,20,70,11,15,22,16,58,100,12,56,70,80]\n",
    "even_list = sitting_list[0 : len(sitting_list) : 2]\n",
    "odd_list = sitting_list[1 : len(sitting_list) : 2]\n",
    "\n",
    "even_ascending = my_sort_ascending(even_list)\n",
    "odd_descending = my_sort_descending(odd_list)\n",
    "\n",
    "new_list = []\n",
    "for i in range(len(even_ascending)):\n",
    "    new_list.append(even_ascending[i])\n",
    "    new_list.append(odd_descending[i])\n",
    "        \n",
    "print(new_list)\n"
   ]
  },
  {
   "cell_type": "code",
   "execution_count": 23,
   "id": "35c7b47f",
   "metadata": {},
   "outputs": [
    {
     "name": "stdout",
     "output_type": "stream",
     "text": [
      "Course Name: MAT110\n",
      "Alan\n",
      "Musk\n",
      "Turing\n",
      "Elon\n"
     ]
    }
   ],
   "source": [
    "# Task- 05\n",
    "\n",
    "user_input = input(\"Course Name: \")\n",
    "\n",
    "lst = [ [\"Alan\", 95, 87, 91], [\"Turing\", 92, 90, 83], [\"Elon\", 87, 92, 80], [\"Musk\", 85, 94, 90] ]\n",
    "\n",
    "if user_input == \"CSE110\":\n",
    "    for i in range(0, len(lst) - 1):\n",
    "        for j in range(0, len(lst) - i - 1):\n",
    "            if lst[j][1] < lst[j + 1][1]:\n",
    "                temp = lst[j]\n",
    "                lst[j] = lst[j + 1]\n",
    "                lst[j + 1] = temp\n",
    "                \n",
    "    for k in lst:\n",
    "        print(k[0])\n",
    "    \n",
    "elif user_input == \"PHY111\":\n",
    "    for i in range(0, len(lst) - 1):\n",
    "        for j in range(0, len(lst) - i - 1):\n",
    "            if lst[j][2] < lst[j + 1][2]:\n",
    "                temp = lst[j]\n",
    "                lst[j] = lst[j + 1]\n",
    "                lst[j + 1] = temp\n",
    "                \n",
    "    for k in lst:\n",
    "        print(k[0])\n",
    "        \n",
    "elif user_input == \"MAT110\":\n",
    "    for i in range(0, len(lst) - 1):\n",
    "        for j in range(0, len(lst) - i - 1):\n",
    "            if lst[j][3] < lst[j + 1][3]:\n",
    "                temp = lst[j]\n",
    "                lst[j] = lst[j + 1]\n",
    "                lst[j + 1] = temp\n",
    "                \n",
    "    for k in lst:\n",
    "        print(k[0])\n",
    "\n"
   ]
  },
  {
   "cell_type": "code",
   "execution_count": 26,
   "id": "d490ac56",
   "metadata": {},
   "outputs": [
    {
     "name": "stdout",
     "output_type": "stream",
     "text": [
      "[1, 2, 3, 4, 5, 6]\n",
      "4\n"
     ]
    }
   ],
   "source": [
    "# Task- 06\n",
    "\n",
    "my_list = [4, 2, 3, 1, 6, 5]\n",
    "C = my_list.copy()\n",
    "\n",
    "# Using selection sort\n",
    "\n",
    "for index1 in range(0, len(my_list) - 1):\n",
    "    min_value = my_list[index1]\n",
    "    min_index = index1\n",
    "    \n",
    "    for index2 in range(index1 + 1, len(my_list)):\n",
    "        if my_list[index2] < min_value:\n",
    "            min_value = my_list[index2]\n",
    "            min_index = index2\n",
    "            \n",
    "    my_list[index1], my_list[min_index] = my_list[min_index], my_list[index1]\n",
    "            \n",
    "print(my_list)\n",
    "\n",
    "changes = 0\n",
    "for i in range(0, len(C)):\n",
    "    if C[i] != my_list[i]:\n",
    "        changes += 1\n",
    "        \n",
    "print(changes)\n"
   ]
  },
  {
   "cell_type": "code",
   "execution_count": 35,
   "id": "aff28521",
   "metadata": {},
   "outputs": [
    {
     "name": "stdout",
     "output_type": "stream",
     "text": [
      "list_one: [1, 7, 9, 10]\n",
      "list_two: [2, 7, 6, 5]\n",
      "Sorted list = [1, 2, 5, 6, 7, 7, 9, 10]\n",
      "Median = 6.5\n"
     ]
    }
   ],
   "source": [
    "# Task- 07\n",
    "\n",
    "def my_sort(my_list):\n",
    "    \n",
    "    for index1 in range(0, len(my_list) -1):\n",
    "    \n",
    "        for index2 in range(0, len(my_list) - index1 - 1):\n",
    "        \n",
    "            if my_list[index2] > my_list[index2 + 1]:\n",
    "                temp = my_list[index2]\n",
    "                my_list[index2] = my_list[index2 + 1]\n",
    "                my_list[index2 + 1] = temp\n",
    "                \n",
    "    return my_list\n",
    "\n",
    "def list_converter(arr):\n",
    "    sliced = arr[1 : -1]\n",
    "    splited = sliced.split(\", \")\n",
    "    \n",
    "    return splited\n",
    "\n",
    "user_input1 = input(\"list_one: \")\n",
    "list_one = list_converter(user_input1)\n",
    "\n",
    "user_input2 = input(\"list_two: \")\n",
    "list_two = list_converter(user_input2)\n",
    "\n",
    "new_list = []\n",
    "\n",
    "for elements1 in list_one:\n",
    "    new_list.append(int(elements1))\n",
    "    \n",
    "for elements2 in list_two:\n",
    "    new_list.append(int(elements2))\n",
    "\n",
    "S = my_sort(new_list)\n",
    "print(\"Sorted list =\", S)\n",
    "\n",
    "if len(S) % 2 == 0:\n",
    "    m1 = S[len(S) // 2]\n",
    "    m2 = S[(len(S) // 2) - 1]\n",
    "    median = (m1 + m2) / 2\n",
    "    print(\"Median =\", median)\n",
    "    \n",
    "else:\n",
    "    median = S[len(S) // 2]\n",
    "    print(\"Median =\", median)\n",
    "    \n"
   ]
  },
  {
   "cell_type": "code",
   "execution_count": 4,
   "id": "65424087",
   "metadata": {},
   "outputs": [
    {
     "name": "stdout",
     "output_type": "stream",
     "text": [
      "list_one = [-10, 15, 2, 4, -4, 7, -8]\n",
      "Two pairs which have the smallest sum = 4 and -4\n"
     ]
    }
   ],
   "source": [
    "# Task- 08\n",
    "\n",
    "user_input = input(\"list_one = \")\n",
    "sliced = user_input[1 : -1]\n",
    "splited = sliced.split(\", \")\n",
    "\n",
    "L = []\n",
    "for i in splited:\n",
    "    L.append(int(i))\n",
    "    \n",
    "index1 = 0\n",
    "index2 = 1\n",
    "\n",
    "sum1 = abs(L[index1] + L[index2])\n",
    "\n",
    "for num1 in range(0, len(L) -1):\n",
    "    for num2 in range(num1 + 1, len(L)):\n",
    "        sum2 = abs(L[num1] + L[num2])\n",
    "        \n",
    "        if sum1 > sum2:\n",
    "            sum1 = sum2\n",
    "            index1 = num1\n",
    "            index2 = num2\n",
    "            \n",
    "print(f\"Two pairs which have the smallest sum = {L[index1]} and {L[index2]}\")\n",
    "    "
   ]
  },
  {
   "cell_type": "code",
   "execution_count": 21,
   "id": "04e8d33c",
   "metadata": {},
   "outputs": [
    {
     "name": "stdout",
     "output_type": "stream",
     "text": [
      "Points = [(1,7), (4,5), (-1,7), (-2,0), (1,1), (5,-1)]\n",
      "Minimum distance = 1.4142135623730951\n",
      "Here the closest point is (1, 1) which has a distance of 1.4142135623730951 from the origin.\n"
     ]
    }
   ],
   "source": [
    "# Task- 09\n",
    "\n",
    "import math\n",
    "def my_sort_ascending(my_list):\n",
    "    \n",
    "    for index1 in range(0, len(my_list) -1):\n",
    "    \n",
    "        for index2 in range(0, len(my_list) - index1 - 1):\n",
    "        \n",
    "            if my_list[index2] > my_list[index2 + 1]:\n",
    "                temp = my_list[index2]\n",
    "                my_list[index2] = my_list[index2 + 1]\n",
    "                my_list[index2 + 1] = temp\n",
    "                \n",
    "    return my_list\n",
    "\n",
    "user_input = eval(input(\"Points = \"))\n",
    "\n",
    "distance = []\n",
    "for i in user_input:\n",
    "    distance.append(math.sqrt((i[0] ** 2) + (i[1] ** 2)))\n",
    "    \n",
    "C_distance = distance.copy() \n",
    "\n",
    "sorted_list =  my_sort_ascending(distance)\n",
    "\n",
    "print(\"Minimum distance =\", sorted_list[0])\n",
    "\n",
    "\n",
    "index_of_min_before_sort = C_distance.index(min(C_distance))\n",
    "point_for_min_distance_from_origin = user_input[index_of_min_before_sort]\n",
    "\n",
    "print(f\"Here the closest point is {point_for_min_distance_from_origin} which has a distance of {sorted_list[0]} from the origin.\")\n",
    "    \n",
    "\n"
   ]
  },
  {
   "cell_type": "code",
   "execution_count": 1,
   "id": "6ecc2809",
   "metadata": {},
   "outputs": [
    {
     "name": "stdout",
     "output_type": "stream",
     "text": [
      "Course Name: MAT110\n",
      "Alan\n",
      "Musk\n",
      "Turing\n",
      "Elon\n"
     ]
    }
   ],
   "source": [
    "# Task- 05\n",
    "\n",
    "def course_holder(boo, idx):\n",
    "    for f in range(0, len(lst) - 1):\n",
    "        for u in range(0, len(lst) - f - 1):\n",
    "            if lst[u][idx] < lst[u + 1][idx]:\n",
    "                hmm = lst[u]\n",
    "                lst[u] = lst[u + 1]\n",
    "                lst[u + 1] = hmm\n",
    "    return boo\n",
    "                \n",
    "def printer(hey):\n",
    "    for h in hey:\n",
    "        print(h[0])\n",
    "\n",
    "user_input = input(\"Course Name: \")\n",
    "\n",
    "lst = [ [\"Alan\", 95, 87, 91], [\"Turing\", 92, 90, 83], [\"Elon\", 87, 92, 80], [\"Musk\", 85, 94, 90] ]\n",
    "\n",
    "if user_input == \"CSE110\":\n",
    "    R = course_holder(lst, 1)\n",
    "    printer(R)\n",
    "    \n",
    "elif user_input == \"PHY111\":\n",
    "    R = course_holder(lst, 2)\n",
    "    printer(R)\n",
    "        \n",
    "elif user_input == \"MAT110\":\n",
    "    R = course_holder(lst, 3)\n",
    "    printer(R)"
   ]
  }
 ],
 "metadata": {
  "kernelspec": {
   "display_name": "Python 3 (ipykernel)",
   "language": "python",
   "name": "python3"
  },
  "language_info": {
   "codemirror_mode": {
    "name": "ipython",
    "version": 3
   },
   "file_extension": ".py",
   "mimetype": "text/x-python",
   "name": "python",
   "nbconvert_exporter": "python",
   "pygments_lexer": "ipython3",
   "version": "3.9.7"
  }
 },
 "nbformat": 4,
 "nbformat_minor": 5
}
