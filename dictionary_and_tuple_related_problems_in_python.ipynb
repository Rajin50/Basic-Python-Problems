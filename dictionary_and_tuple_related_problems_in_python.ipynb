{
 "cells": [
  {
   "cell_type": "code",
   "execution_count": 1,
   "id": "649c5908",
   "metadata": {},
   "outputs": [
    {
     "name": "stdout",
     "output_type": "stream",
     "text": [
      "{'Harry': 15, 'Draco': 8, 'Nevil': 19, 'Ginie': 18, 'Luna': 14}\n"
     ]
    }
   ],
   "source": [
    "# task- 07, Dictionary Problem\n",
    "\n",
    "Dictionary1 = {'Harry':15, 'Draco':8, 'Nevil':19}\n",
    "Dictionary2 = {'Ginie':18, 'Luna': 14}\n",
    "\n",
    "Dictionary1.update(Dictionary2)\n",
    "\n",
    "print(Dictionary1)\n"
   ]
  },
  {
   "cell_type": "code",
   "execution_count": 14,
   "id": "1322fbe0",
   "metadata": {},
   "outputs": [
    {
     "name": "stdout",
     "output_type": "stream",
     "text": [
      "How many pairs of elements: 4\n",
      "Key: Jon\n",
      "Value: 100\n",
      "Key: Dan\n",
      "Value: 200\n",
      "Key: Rob\n",
      "Value: 30\n",
      "Key: Ned\n",
      "Value: 110\n",
      "Average is: 110\n"
     ]
    }
   ],
   "source": [
    "# task- 08, Dictionary Problem\n",
    "\n",
    "empty_dictionary = {}\n",
    "pairs = int(input(\"How many pairs of elements: \"))\n",
    "\n",
    "for i in range(pairs):\n",
    "    Key = input(\"Key: \")\n",
    "    Value = int(input(\"Value: \"))\n",
    "    empty_dictionary.update({Key: Value})\n",
    "\n",
    "sum = 0\n",
    "values = empty_dictionary.values()\n",
    "for i in values:\n",
    "    sum += i\n",
    "\n",
    "average = sum // pairs\n",
    "\n",
    "print(\"Average is:\", average)\n"
   ]
  },
  {
   "cell_type": "code",
   "execution_count": 2,
   "id": "9b0cd316",
   "metadata": {},
   "outputs": [
    {
     "name": "stdout",
     "output_type": "stream",
     "text": [
      "190\n",
      "{'Alden Cantrell': 200, 'Pierre Cox': 190}\n"
     ]
    }
   ],
   "source": [
    "# task- 09, Dictionary Problem\n",
    "\n",
    "exam_marks = {'Cierra Vega': 175, 'Alden Cantrell': 200, 'Kierra Gentry': 165, 'Pierre Cox': 190}\n",
    "\n",
    "number = int(input())\n",
    "\n",
    "copy = exam_marks.copy()\n",
    "\n",
    "for i in exam_marks.keys():\n",
    "    if copy[i] < number:\n",
    "        del copy[i]\n",
    "        \n",
    "print(copy)\n",
    "\n",
    "\n",
    "    \n",
    "            \n",
    "        \n",
    "    "
   ]
  },
  {
   "cell_type": "code",
   "execution_count": 4,
   "id": "de9d9182",
   "metadata": {},
   "outputs": [
    {
     "name": "stdout",
     "output_type": "stream",
     "text": [
      "The highest selling book genre is 'mystery' and the number of books sold are 15\n"
     ]
    }
   ],
   "source": [
    "# task- 10, Dictionary Problem\n",
    "\n",
    "given = {'sci fi': 12, 'mystery': 15, 'horror': 8, 'mythology': 10, 'young_adult': 4, 'adventure': 14}\n",
    "\n",
    "highest = given['sci fi']\n",
    "\n",
    "for i in given.values():\n",
    "    if i > highest:\n",
    "        highest = i\n",
    "\n",
    "copy = given.copy()\n",
    "\n",
    "for j in given.keys():\n",
    "    if copy[j] == highest:\n",
    "        book = j  \n",
    "        \n",
    "print(f\"The highest selling book genre is '{book}' and the number of books sold are {highest}\")"
   ]
  },
  {
   "cell_type": "code",
   "execution_count": 7,
   "id": "64019915",
   "metadata": {},
   "outputs": [
    {
     "name": "stdout",
     "output_type": "stream",
     "text": [
      "\"Python programming is fun\"\n",
      "{'p': 2, 'y': 1, 't': 1, 'h': 1, 'o': 2, 'n': 3, 'r': 2, 'g': 2, 'a': 1, 'm': 2, 'i': 2, 's': 1, 'f': 1, 'u': 1}\n"
     ]
    }
   ],
   "source": [
    "# task- 11, Dictionary Problem\n",
    "user_input = input()\n",
    "update = user_input.replace('\"', \"\")\n",
    "latest = update.replace(\" \", \"\").lower()\n",
    "\n",
    "Dictionary = {}\n",
    "for letter in latest:\n",
    "    if letter in Dictionary:\n",
    "        Dictionary[letter] += 1\n",
    "    \n",
    "    else:\n",
    "        Dictionary[letter] = 1\n",
    "        \n",
    "print(Dictionary)"
   ]
  },
  {
   "cell_type": "code",
   "execution_count": 7,
   "id": "9aafb54a",
   "metadata": {},
   "outputs": [
    {
     "name": "stdout",
     "output_type": "stream",
     "text": [
      "9\n"
     ]
    }
   ],
   "source": [
    "# task- 12, Dictionary Problem\n",
    "\n",
    "dict_1 = {'A': [1, 2, 3], 'b': ['1', '2'], \"c\": [4, 5, 6, 7]}\n",
    "counter = 0\n",
    "for i in dict_1.values():\n",
    "    for elements in i:\n",
    "        counter += 1\n",
    "print(counter)\n",
    "        "
   ]
  },
  {
   "cell_type": "code",
   "execution_count": 8,
   "id": "6171ac86",
   "metadata": {},
   "outputs": [
    {
     "name": "stdout",
     "output_type": "stream",
     "text": [
      "{'a': [1, 3, 2], 'b': [2, 1], 'c': [1]}\n"
     ]
    }
   ],
   "source": [
    "# task- 13, Dictionary Problem\n",
    "\n",
    "list_1 = [(\"a\", 1), (\"b\", 2), (\"a\", 3), (\"b\", 1), (\"a\", 2), (\"c\", 1)]\n",
    "dictionary = {}\n",
    "\n",
    "for i in list_1:\n",
    "    key, value = i\n",
    "    if key in dictionary:\n",
    "        dictionary[key].append(value)\n",
    "        continue \n",
    "        \n",
    "    dictionary[key] = [value]\n",
    "    \n",
    "print(dictionary)        "
   ]
  },
  {
   "cell_type": "code",
   "execution_count": 2,
   "id": "954da05b",
   "metadata": {},
   "outputs": [
    {
     "name": "stdout",
     "output_type": "stream",
     "text": [
      "400\n"
     ]
    }
   ],
   "source": [
    "# task- 01, Tuple Problem\n",
    "\n",
    "a_tuple = (\"The Institute\", (\"Best Mystery & Thriller\", \"The Silent Patient\", 68821), 75717,\n",
    "[1, 2, 3, 400, 5, 6, 7], (\"Best Fiction\", \"The Testaments\", 98291))\n",
    "\n",
    "print(a_tuple[3][3])"
   ]
  },
  {
   "cell_type": "code",
   "execution_count": 2,
   "id": "cab702e1",
   "metadata": {},
   "outputs": [
    {
     "name": "stdout",
     "output_type": "stream",
     "text": [
      "(10, 20, 24, 25, 26, 35, 70)\n",
      "(24, 25, 26)\n"
     ]
    }
   ],
   "source": [
    "# task- 02, Tuple Problem\n",
    "\n",
    "user_input = input()\n",
    "sliced_input = user_input[1:-1]\n",
    "modified_input = sliced_input.split(\", \") \n",
    "\n",
    "T = tuple(modified_input)\n",
    "\n",
    "list = []\n",
    "for i in T:\n",
    "    list.append(int(i))\n",
    "new_T = tuple(list)\n",
    "\n",
    "updated_T = new_T[2 : len(new_T) - 2]\n",
    "\n",
    "print(updated_T)"
   ]
  },
  {
   "cell_type": "code",
   "execution_count": 3,
   "id": "0dee1f8a",
   "metadata": {},
   "outputs": [
    {
     "name": "stdout",
     "output_type": "stream",
     "text": [
      "Size of the tuple is: 4\n",
      "('Best Mystery & Thriller', 'The Silent Patient', 68, 821)\n",
      "('Best Horror', 'The Institute', 75, 717)\n",
      "('Best History & Biography', 'The five', 31, 783)\n",
      "('Best Fiction', 'The Testaments', 98, 291)\n"
     ]
    }
   ],
   "source": [
    "# task- 03, Tuple Problem\n",
    "\n",
    "book_info = (\n",
    "(\"Best Mystery & Thriller\",\"The Silent Patient\",68,821),\n",
    "(\"Best Horror\",\"The Institute\",75,717),\n",
    "(\"Best History & Biography\",\"The five\",31,783 ),\n",
    "(\"Best Fiction\",\"The Testaments\",98,291)\n",
    ")\n",
    "\n",
    "elements = len(book_info)\n",
    "print(\"Size of the tuple is:\", elements)\n",
    "\n",
    "for i in book_info:\n",
    "    print(i)"
   ]
  },
  {
   "cell_type": "code",
   "execution_count": 29,
   "id": "adbcd64b",
   "metadata": {},
   "outputs": [
    {
     "name": "stdout",
     "output_type": "stream",
     "text": [
      "The Silent Patient won the 'Best Mystery & Thriller' category with 68821 votes\n",
      "The Institute won the 'Best Horror' catagory with 75717 votes\n",
      "The five won the 'Best History & Biography' category with 31783 votes\n",
      "The Testaments won the 'Best Fiction' category with 98291 votes\n"
     ]
    }
   ],
   "source": [
    "# task- 04, Tuple Problem\n",
    "\n",
    "book_info = (\n",
    "(\"Best Mystery & Thriller\",\"The Silent Patient\",68821),\n",
    "(\"Best Horror\",\"The Institute\",75717),\n",
    "(\"Best History & Biography\",\"The five\",31783 ),\n",
    "(\"Best Fiction\",\"The Testaments\",98291)\n",
    ")\n",
    "\n",
    "a, b, c, d = book_info\n",
    "\n",
    "x, y, z = a\n",
    "p, q, r = b\n",
    "f, g, h = c\n",
    "i, j, k = d\n",
    "\n",
    "print(f\"The Silent Patient won the '{x}' category with {z} votes\")\n",
    "print(f\"The Institute won the '{p}' catagory with {r} votes\")\n",
    "print(f\"The five won the '{f}' category with {h} votes\")\n",
    "print(f\"The Testaments won the '{i}' category with {k} votes\")"
   ]
  },
  {
   "cell_type": "code",
   "execution_count": 20,
   "id": "bc174e15",
   "metadata": {},
   "outputs": [
    {
     "name": "stdout",
     "output_type": "stream",
     "text": [
      "1\n",
      "1 appears 0 times in the tuple\n"
     ]
    }
   ],
   "source": [
    "# task- 05, Tuple Problem\n",
    "\n",
    "Given_tuple = (10, 8, 5, 2, 10, 15, 10, 8, 5, 8, 8, 2)\n",
    "    \n",
    "finding_value = int(input())\n",
    "\n",
    "counter = Given_tuple.count(finding_value)\n",
    "\n",
    "print(f\"{finding_value} appears {counter} times in the tuple\")\n"
   ]
  },
  {
   "cell_type": "code",
   "execution_count": 30,
   "id": "b4f4d00a",
   "metadata": {},
   "outputs": [
    {
     "name": "stdout",
     "output_type": "stream",
     "text": [
      "(60, 50, 40, 30, 20, 10)\n"
     ]
    }
   ],
   "source": [
    "# task- 06, Tuple Problem\n",
    "\n",
    "Given_tuple = (10, 20, 30, 40, 50, 60)\n",
    "\n",
    "update = list(Given_tuple)\n",
    "\n",
    "update.reverse()\n",
    "\n",
    "print(tuple(update))\n",
    "\n",
    "\n"
   ]
  }
 ],
 "metadata": {
  "kernelspec": {
   "display_name": "Python 3 (ipykernel)",
   "language": "python",
   "name": "python3"
  },
  "language_info": {
   "codemirror_mode": {
    "name": "ipython",
    "version": 3
   },
   "file_extension": ".py",
   "mimetype": "text/x-python",
   "name": "python",
   "nbconvert_exporter": "python",
   "pygments_lexer": "ipython3",
   "version": "3.9.7"
  }
 },
 "nbformat": 4,
 "nbformat_minor": 5
}
